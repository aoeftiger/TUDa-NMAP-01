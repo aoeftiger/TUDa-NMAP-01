{
 "cells": [
  {
   "cell_type": "markdown",
   "id": "29802243",
   "metadata": {
    "slideshow": {
     "slide_type": "slide"
    }
   },
   "source": [
    "<h1 style=\"text-align: center; vertical-align: middle;\">Numerical Methods of Accelerator Physics</h1>\n",
    "<h2 style=\"text-align: center; vertical-align: middle;\">Lecture by Dr. Adrian Oeftiger</h2>\n",
    "\n",
    "<img src=\"./etit.png\" style=\"width: 20%; margin: auto;\" />\n",
    "\n",
    "<h3 style=\"text-align: center; vertical-align: middle;\">Part 1: 21.10.2022</h3>"
   ]
  },
  {
   "cell_type": "markdown",
   "id": "84735e69",
   "metadata": {
    "slideshow": {
     "slide_type": "slide"
    }
   },
   "source": [
    "<h2>Run this notebook online!</h2>\n",
    "\n",
    "Interact and run this jupyter notebook online:\n",
    "\n",
    "<div class=\"alert alert-block alert-info\" style=\"text-align:center;\">\n",
    "1. via the public mybinder.org service: <br />\n",
    "\n",
    "<p style=\"text-align: center; margin-left, margin-right: auto; width: 100%;\">\n",
    "<a href=\"https://mybinder.org/v2/gh/aoeftiger/TUDa-NMAP-01/v1.0\"><img src=\"./img/binder_logo.svg\" /></a>\n",
    "</p>\n",
    "</div>\n",
    "\n",
    "<div class=\"alert alert-block alert-success\" style=\"text-align:center;\">\n",
    "2. on the <a href=\"https://tu-jupyter-i.ca.hrz.tu-darmstadt.de/\">local TU Darmstadt jupyterhub $\\nearrow$</a> (using your TU ID)\n",
    "\n",
    "$\\implies$ make sure you installed all the required python packages (see the [README](./README.md))!\n",
    "</div>\n",
    "\n",
    "Finally, also find this lecture rendered [as HTML slides on github $\\nearrow$](https://aoeftiger.github.io/TUDa-NMAP-01/) along with the [source repository $\\nearrow$](https://github.com/aoeftiger/TUDa-NMAP-01)."
   ]
  },
  {
   "cell_type": "markdown",
   "id": "1a79d9df",
   "metadata": {
    "slideshow": {
     "slide_type": "slide"
    }
   },
   "source": [
    "<h2>Learning Objectives</h2>\n",
    "\n",
    "- basic models of accelerator physics\n",
    "- suitable methods for their numerical computation\n",
    "\n",
    "<h2>Practical Advantages</h2>\n",
    "\n",
    "- get to know applications of numerical methods\n",
    "- get to know some python"
   ]
  },
  {
   "cell_type": "markdown",
   "id": "e1969248",
   "metadata": {
    "slideshow": {
     "slide_type": "slide"
    }
   },
   "source": [
    "<h2>Prerequisites (BSc)</h2>\n",
    "\n",
    "1. concept of equation of motion (basic physics)\n",
    "    - harmonic oscillator\n",
    "    - particle in electromagnetic fields\n",
    "2. basics of electrodynamics, Maxwell equations\n",
    "    - Medizintechnik: \"Anwendungen der Elektrodynamik\"\n",
    "    - Elektrotechnik: \"Grundlagen der Elektrodynamik\"\n",
    "    - Physik: \"Theoretische Physik III: Elektrodynamik\""
   ]
  },
  {
   "cell_type": "markdown",
   "id": "6d7df829",
   "metadata": {
    "slideshow": {
     "slide_type": "slide"
    }
   },
   "source": [
    "<h2>\"Numerical Methods of Accelerator Physics\"</h2>\n",
    "\n",
    "1. <b>reduced models</b>: steering, focusing, acceleration\n",
    "2. <b>maps</b> of linear periodic systems + <b>stability analysis</b>\n",
    "3. beam <b>transport models</b>: beam distributions, particles\n",
    "4. <b>control-room</b> applications and <b>diagnostics</b>: \n",
    "    - tomographic reconstruction of phase space\n",
    "    - tune reconstruction\n",
    "    - closed-orbit control\n",
    "    - optics distortions"
   ]
  },
  {
   "cell_type": "markdown",
   "id": "cac23d1b",
   "metadata": {
    "slideshow": {
     "slide_type": "-"
    }
   },
   "source": [
    "<!--<h2>Structure</h2>\n",
    "\n",
    "- lecture time: every Friday 13:30 - 15:10\n",
    "- first lecture: 21.10.2022\n",
    "- last lecture: 10.02.2023\n",
    "- 3 CP for successful oral examination\n",
    "-->"
   ]
  },
  {
   "cell_type": "markdown",
   "id": "ea463f5f",
   "metadata": {
    "slideshow": {
     "slide_type": "slide"
    }
   },
   "source": [
    "<h2>Concept</h2>\n",
    "\n",
    "Flipped classroom:\n",
    "- every Tuesday on moodle: new material (video) $\\implies$ please study and prepare for Friday\n",
    "- Friday lecture time: discuss open questions & solve problems together\n",
    "\n",
    "$\\implies$ interactive jupyter notebooks\n",
    "\n",
    "<h2>Examination</h2>\n",
    "\n",
    "Oral examination of 30min, Standard Grading System\n",
    "\n",
    "$\\implies$ each lecture has a summary slide: examination material $=\\sum$ summary slides "
   ]
  },
  {
   "cell_type": "markdown",
   "id": "4c50573f",
   "metadata": {
    "slideshow": {
     "slide_type": "slide"
    }
   },
   "source": [
    "<h2 style=\"color: #b51f2a\">Today!</h2>\n",
    "\n",
    "1. About Accelerators\n",
    "2. Time Scales\n",
    "3. Modelling a Pendulum ($\\leadsto$ rf cavities focusing a beam)\n",
    "4. Important Quantities & Relations in Accelerator Physics"
   ]
  },
  {
   "cell_type": "markdown",
   "id": "45f720d1",
   "metadata": {
    "slideshow": {
     "slide_type": "slide"
    }
   },
   "source": [
    "<h2>Accelerator Physics</h2>\n",
    "\n",
    "Accelerator physics $\\Longleftrightarrow$ plasma physics\n",
    "\n",
    "- single-particle effects: non-linear dynamics\n",
    "- multi-particle effects: collective instabilities"
   ]
  },
  {
   "cell_type": "markdown",
   "id": "17c27d2f",
   "metadata": {
    "slideshow": {
     "slide_type": "slide"
    }
   },
   "source": [
    "<h2>What is an \"accelerator\"?</h2>\n",
    "\n",
    "$$\\begin{array}\\,\\text{beam self fields} &>& \\text{external applied fields} &\\text{(plasma)} \\\\\n",
    "\\text{beam self fields} &\\ll& \\text{external applied fields}& \\text{(accelerator)}\\end{array}$$\n",
    "\n",
    "\n",
    "\n",
    "$\\implies$ <b>perturbation technique</b> applicable to higher-energy accelerators:\n",
    "\n",
    "$$\\begin{cases} \\text{unperturbed motion} &=& \\text{external fields} \\\\ \n",
    "\\text{perturbation} &=& \\text{self fields} \\end{cases}$$\n",
    "\n",
    "Large part of this course: model effects on particle beam due to external fields!"
   ]
  },
  {
   "cell_type": "markdown",
   "id": "ddfd45b1",
   "metadata": {
    "slideshow": {
     "slide_type": "slide"
    }
   },
   "source": [
    "<h2>Accelerator Fundamentals</h2>\n",
    "\n",
    "Putting it simple: 3 major ingredients\n",
    "\n",
    "- <a href=\"http://dx.doi.org/10.17181/cds.1709737\">radio frequency (rf) cavities for <b>bunching and acceleration</b></a>\n",
    "- <a href=\"http://dx.doi.org/10.17181/cds.1709735\">dipole magnets for <b>steering</b></a>\n",
    "- <a href=\"http://dx.doi.org/10.17181/cds.1750723\">quadrupole magnets for <b>(transverse) focusing</b></a>\n",
    "\n",
    "$\\implies$ enforce oscillations to contain particles!"
   ]
  },
  {
   "cell_type": "markdown",
   "id": "aee207cb",
   "metadata": {
    "slideshow": {
     "slide_type": "slide"
    }
   },
   "source": [
    "<h2>One \"Electron Volt\"</h2>\n",
    "\n",
    "1 eV $=$ gained kinetic <b>energy</b> of particle with elementary charge after traversing 1 V potential difference"
   ]
  },
  {
   "cell_type": "markdown",
   "id": "8a9fb27d",
   "metadata": {
    "slideshow": {
     "slide_type": "slide"
    }
   },
   "source": [
    "<h2 style=\"margin-bottom: 0.5em;\">Common Higher-energy Accelerator Types</h2>\n",
    "\n",
    "<div style=\"float: left; width: 25%; margin-left: 3%; margin-right: 3%;\">\n",
    "    <h4>Linacs</h4>\n",
    "    <div style=\"font-size: 14pt; margin-top:1em;\">\n",
    "\n",
    "- steady, intense beams\n",
    "- protons/ions and electrons\n",
    "\n",
    "</div>\n",
    "    \n",
    "<img src=\"./img/unilac.webp\" alt=\"UNILAC at GSI\" />\n",
    "<a href=\"https://www.helmholtz.de/forschung/forschungsinfrastrukturen/ionenanlagen/unilac/\" style=\"font-size:10pt;\">image: UNILAC at GSI, Darmstadt</a>\n",
    "</div>\n",
    "<div style=\"float: left; width: 25%; margin-left: 3%; margin-right: 3%;\">\n",
    "    <h4>Cyclotrons</h4>\n",
    "    <div style=\"font-size: 14pt; margin-top:1em;\">\n",
    "\n",
    "- low energy (limited by relativistic effects)\n",
    "- protons/ions\n",
    "- provide muons, neutrons, radioactive isotopes\n",
    "- medial applications and research\n",
    "\n",
    "</div>\n",
    "    \n",
    "<img src=\"./img/cyclotron.png\" alt=\"Cyclotron at PSI\" />\n",
    "<a href=\"https://www.researchgate.net/publication/284545355_Overview_of_Accelerator_Applications_in_Energy\" style=\"font-size:10pt;\">image: PSI cyclotron, Villigen (CH)</a>\n",
    "</div>\n",
    "<div style=\"float: left; width: 25%; margin-left: 3%; margin-right: 3%;\">\n",
    "    <h4>Synchrotrons</h4>\n",
    "    <div style=\"font-size: 14pt; margin-top:1em;\">\n",
    "    \n",
    "- highest energies\n",
    "- slowly ramp up energy of beam\n",
    "- protons/ions: fundamental research\n",
    "- electrons: synchrotron light sources\n",
    "\n",
    "</div>\n",
    "\n",
    "<img src=\"./img/leir.jpg\" alt=\"LEIR at CERN\" />\n",
    "<a href=\"https://cds.cern.ch/record/1997352\" style=\"font-size:10pt;\">image: LEIR at CERN, Geneva (CH)</a>\n",
    "</div>"
   ]
  },
  {
   "cell_type": "markdown",
   "id": "34470b95",
   "metadata": {
    "slideshow": {
     "slide_type": "slide"
    }
   },
   "source": [
    "<img src=\"./img/gsi-complex.jpg\" alt=\"FAIR accelerator complex at GSI\" style=\"width: 40%; float:right;\" />\n",
    "\n",
    "<h2>FAIR complex at GSI</h2>\n",
    "\n",
    "Protons..Uranium for FAIR experiments:\n",
    "- <b>UNILAC</b>: $\\sim$ 11 MeV/u\n",
    "- <b>SIS18</b>: $\\leq$ 1 GeV/u (Uranium) or 4.5 GeV (protons)\n",
    "- <b>SIS100</b>: $\\leq$ 10 GeV/u (Uranium) or 29 GeV (protons)\n",
    "\n",
    "<p style=\"clear: both; font-size: 10pt; text-align: right; float:right; \"><a href=\"https://www.gsi.de/en/researchaccelerators/fair\">image: GSI - FAIR 2022</a></p>\n"
   ]
  },
  {
   "cell_type": "markdown",
   "id": "e1cc6a5e",
   "metadata": {
    "slideshow": {
     "slide_type": "slide"
    }
   },
   "source": [
    "<img src=\"./img/cern-complex.png\" alt=\"CERN accelerator complex\" style=\"width: 50%; float:right;\" />\n",
    "\n",
    "<h2>CERN complex</h2>\n",
    "\n",
    "Protons for LHC injection:\n",
    "- <b>LINAC4</b>: 160 MeV\n",
    "- <b>PSB</b>: 2 GeV\n",
    "- <b>PS</b>: 26 GeV\n",
    "- <b>SPS</b>: 450 GeV\n",
    "- <b>LHC</b>: 7 TeV\n",
    "\n",
    "<p style=\"clear: both; font-size: 10pt; text-align: right; float: right;\"><a href=\"http://cds.cern.ch/images/CERN-GRAPHICS-2022-001-1\">image: CERN 2022</a></p>\n"
   ]
  },
  {
   "cell_type": "markdown",
   "id": "a7bf2046",
   "metadata": {
    "slideshow": {
     "slide_type": "slide"
    }
   },
   "source": [
    "<h2>World-record LHC Fill Duration</h2>\n",
    "\n",
    "<img src=\"img/lhcop-record-fill-sel.png\" style=\"width: 35%; margin: auto; margin-top:1em;\" />\n",
    "\n",
    "<p style=\"clear: both; font-size: 10pt; text-align: right; float: right;\">image: CERN LHC OP logbook 2022</p>"
   ]
  },
  {
   "cell_type": "markdown",
   "id": "c60d02cd",
   "metadata": {},
   "source": [
    "$\\leadsto$ 57h of beam storage $=$ how many turns in 27 km long LHC?"
   ]
  },
  {
   "cell_type": "code",
   "execution_count": null,
   "id": "33d94966",
   "metadata": {},
   "outputs": [],
   "source": []
  },
  {
   "cell_type": "markdown",
   "id": "1b9fd1bd",
   "metadata": {
    "slideshow": {
     "slide_type": "slide"
    }
   },
   "source": [
    "<h2>Time Scales in a Synchrotron</h2>\n",
    "\n",
    "A turn $\\sim$ 1..100 μs:\n",
    "- many per turn: transverse (betatron) oscillations\n",
    "- once per turn: observation in a wall current monitor\n",
    "- 100s of turns: longitudinal (synchrotron) oscillations\n",
    "- 100s of turns: $e$-fold damping time of feedback systems\n",
    "- 100'000s to $>$ millions of turns: storage times\n",
    "\n",
    "(compare: stability of the Earth's orbit around the Sun (age: 4.6 My))"
   ]
  },
  {
   "cell_type": "markdown",
   "id": "ffa73bf2",
   "metadata": {
    "slideshow": {
     "slide_type": "slide"
    }
   },
   "source": [
    "<h2>Accuracy Required!</h2>\n",
    "\n",
    "Analytical models do not suffice for quantitative understanding!\n",
    "\n",
    "$\\implies$ require detailed numerical models\n",
    "\n",
    "$\\implies$ predict and control stability over these time scales!\n",
    "\n",
    "$\\implies$ learn about basic concepts in this lecture! :-)"
   ]
  },
  {
   "cell_type": "markdown",
   "id": "076f6e39",
   "metadata": {
    "slideshow": {
     "slide_type": "slide"
    }
   },
   "source": [
    "<h2>In the following...</h2>\n",
    "\n",
    "Use simple pendulum to demonstrate development of numerical simulation model!\n",
    "\n",
    "Clarify concepts:\n",
    "- phase space, Hamiltonian\n",
    "- discrete integration\n",
    "- symplecticity\n",
    "- errors of such simulation models:\n",
    "    - discretisation\n",
    "    - next time: numerical artefacts, modelling errors"
   ]
  },
  {
   "cell_type": "markdown",
   "id": "31516d59",
   "metadata": {
    "slideshow": {
     "slide_type": "slide"
    }
   },
   "source": [
    "<img src=\"./img/pendulum.png\" alt=\"simple pendulum\" style=\"float:right; width:10%;\" />\n",
    "\n",
    "<h2>The Simple Pendulum</h2>\n",
    "\n",
    "- point mass $m$ suspended on (weightless/inextensible) rod of length $L$\n",
    "- gravitational acceleration $g$ pulls $m$ downwards\n",
    "- degree of freedom: displacement angle $\\theta$ of $m$ over time $t$\n",
    "\n",
    "$$\\begin{align}\n",
    "\\text{Newtonian force}:& &m\\frac{d^2\\theta}{dt^2} &= -mg\\frac{\\sin\\theta}{L}\n",
    "\\end{align}$$\n",
    "\n",
    "$\\implies$ second-order non-linear ODE (ordinary differential equation)\n",
    "\n",
    "$\\leadsto$ numerical integration should give expected periodic movement!\n",
    "\n",
    "<p style=\"clear: both; font-size: 10pt; text-align: right; float: right;\"><a href=\"https://simple.wikipedia.org/wiki/Pendulum#/media/File:Simple-Pendulum-Labeled-Diagram.png\">image: simple.wikipedia.org</a></p>"
   ]
  },
  {
   "cell_type": "markdown",
   "id": "00a82f56",
   "metadata": {
    "slideshow": {
     "slide_type": "slide"
    }
   },
   "source": [
    "<h2>Phase Space</h2>\n",
    "\n",
    "<img src=\"./img/phasespace.png\" alt=\"phase-space sketch\" style=\"float: right; width: 20%;\" />\n",
    "\n",
    "Very useful concept in classical mechanics:\n",
    "- collect all states of dynamical system\n",
    "- for $i$ degrees of freedom: <br /> each coordinate $q_i$ has associated <b>conjugate momentum</b> $p_i$\n",
    "- momentary state vector $(q_i, p_i)$ evolves with time $t$\n",
    "- equations of motion (e.o.m.) connect $(q_i, p_i)$ with each other: <br /><b>phase-space trajectories are solution of e.o.m.</b>\n",
    "- rich structure, \"symplectic manifold\", phase space $=$ incompressible fluid:\n",
    "    - phase-space trajectories are unique $\\implies$ never overlap/cross\n",
    "    - Liouville's theorem: local trajectory density does not change\n",
    "\n",
    "$\\implies$ we will clarify via examples!\n",
    "\n",
    "<p style=\"clear: both; font-size: 10pt; text-align: right; float: right;\">image: Roger Penrose, <br />The Road of Reality</p>"
   ]
  },
  {
   "cell_type": "markdown",
   "id": "69fb8b0f",
   "metadata": {
    "slideshow": {
     "slide_type": "slide"
    }
   },
   "source": [
    "<h2>Conjugate Momentum</h2>\n",
    "\n",
    "Consider $$p \\doteq m L^2 \\frac{d\\theta}{dt}$$ \n",
    "\n",
    "(use Lagrangian functional to construct $p$ -- not focus of this lecture, see e.g. <a href=\"https://www.physics.uoguelph.ca/chapter-3-hamiltonian-mechanics\">here</a> for more details)\n",
    "\n",
    "2nd-order ODE equation of motion $\\leadsto$ 2 coupled 1st-order ODEs: evolution of $(\\theta, p)$\n",
    "\n",
    "$$\\frac{d^2\\theta}{dt^2} + \\frac{g}{L}\\sin\\theta = 0 \\quad \\Longleftrightarrow \\quad \\left\\{\\begin{array}\\,\n",
    "    \\cfrac{d\\theta}{dt} &= \\cfrac{p}{mL^2} \\\\\n",
    "    \\cfrac{dp}{dt} &= -m g L\\sin\\theta\n",
    "\\end{array}\\right.$$\n"
   ]
  },
  {
   "cell_type": "markdown",
   "id": "f621f67c",
   "metadata": {
    "slideshow": {
     "slide_type": "slide"
    }
   },
   "source": [
    "<h2>Let's plot in phase space!</h2>"
   ]
  },
  {
   "cell_type": "code",
   "execution_count": null,
   "id": "3e9cc2af",
   "metadata": {},
   "outputs": [],
   "source": [
    "from config import *\n",
    "%matplotlib inline"
   ]
  },
  {
   "cell_type": "code",
   "execution_count": null,
   "id": "9d1ed3c0",
   "metadata": {},
   "outputs": [],
   "source": [
    "m = 1\n",
    "g = 1\n",
    "L = 1"
   ]
  },
  {
   "cell_type": "code",
   "execution_count": null,
   "id": "94d611d5",
   "metadata": {},
   "outputs": [],
   "source": [
    "def plot_arrow(theta, p, dt=1):\n",
    "    # equations of motion:\n",
    "    dtheta = p / (m * L*L) * dt\n",
    "    dp = - m * g * L * np.sin(theta) * dt\n",
    "    \n",
    "    # plotting\n",
    "    plt.scatter([theta], [p], s=50, c='r', marker='*', zorder=10)\n",
    "    plt.annotate('', \n",
    "                 xytext=(theta, p), \n",
    "                 xy=(theta + dtheta, p + dp), \n",
    "                 arrowprops=dict(facecolor='black', shrink=0.03))"
   ]
  },
  {
   "cell_type": "code",
   "execution_count": null,
   "id": "14954764",
   "metadata": {
    "slideshow": {
     "slide_type": "slide"
    }
   },
   "outputs": [],
   "source": [
    "plot_arrow(1, 0)\n",
    "# plot_arrow(0, -1)\n",
    "# plot_arrow(-1, 0)\n",
    "# plot_arrow(0, 1)\n",
    "# plot_arrow(1/1.41, 1/1.41)\n",
    "\n",
    "# # increase momentum:\n",
    "# for i in np.arange(0.4, 2.5, 0.2):\n",
    "#     plot_arrow(0, i)\n",
    "\n",
    "# # increase angle:\n",
    "# for i in np.arange(1, np.pi * 1.1, 0.2):\n",
    "#     plot_arrow(i, 0)\n",
    "\n",
    "set_axes()"
   ]
  },
  {
   "cell_type": "markdown",
   "id": "c0ae304c",
   "metadata": {
    "slideshow": {
     "slide_type": "slide"
    }
   },
   "source": [
    "<h2>Conservation of Energy</h2>\n",
    "\n",
    "Equation of motion for $\\theta(t)$:\n",
    "$$\\frac{d^2\\theta}{dt^2} + \\frac{g}{L}\\sin\\theta = 0$$\n",
    "\n",
    "$$\\begin{align}\n",
    "\\text{Potential energy}:& &U &= mgL(1 - \\cos\\theta) \\\\\n",
    "\\text{Kinetic energy}:& &T &= \\frac{1}{2}mL^2\\left(\\frac{d\\theta}{dt}\\right)^2\n",
    "\\end{align}$$\n",
    "<!-- \\biggl(\\underbrace{\\frac{d\\theta}{dt}}\\limits_{\\mathop{\\doteq}\\dot{\\theta}}\\biggr)^2 -->\n",
    "\n",
    "<div class=\"alert alert-block alert-success\">\n",
    "Conservation of total energy:\n",
    "\n",
    "$$T + U = \\mathrm{const} \\quad \\Longleftrightarrow \\quad \\frac{d}{dt}(T + U) = 0$$\n",
    "</div>"
   ]
  },
  {
   "cell_type": "markdown",
   "id": "2b51579c",
   "metadata": {
    "slideshow": {
     "slide_type": "slide"
    }
   },
   "source": [
    "<h2>The Hamiltonian</h2>\n",
    "\n",
    "$\\mathcal{H} \\doteq T + U$ is an example of a <i>Hamiltonian</i> functional on $\\theta(t),p(t)$.\n",
    "\n",
    "- integral of motion (<b>total energy</b>) when $\\mathcal{H}$ not explicitly depending on time\n",
    "- equations of motion $=$ gradient of Hamiltonian w.r.t. phase-space coordinates\n",
    "\n",
    "<div class=\"alert alert-block alert-success\">\n",
    "$$\\begin{align}\\,\n",
    "    \\frac{d}{dt}q_i & = \\frac{\\partial \\mathcal{H}}{\\partial p_i} \\\\\n",
    "    \\frac{d}{dt}p_i &= -\\frac{\\partial \\mathcal{H}}{\\partial q_i}\n",
    "\\end{align}$$\n",
    "</div>\n",
    "\n",
    "- in 2D: contours of constant Hamiltonian value $=$ phase-space trajectories"
   ]
  },
  {
   "cell_type": "markdown",
   "id": "fd90b8dd",
   "metadata": {
    "slideshow": {
     "slide_type": "slide"
    }
   },
   "source": [
    "<h2>Hamiltonian of the Pendulum</h2>\n",
    "\n",
    "$$\\mathcal{H} = T + U = \\frac{1}{2} \\frac{p^2}{mL^2} + m g L \\left(1 - \\cos\\theta\\right)$$ \n",
    "\n",
    "and correspondingly the 2 coupled 1D equations of motion via the Hamilton equations:\n",
    "\n",
    "$$\\left.\\begin{array}\\,\n",
    "    \\cfrac{d\\theta}{dt} = \\cfrac{\\partial\\mathcal{H}}{\\partial p} \\\\ \n",
    "    \\cfrac{dp}{dt} = -\\cfrac{\\partial\\mathcal{H}}{\\partial\\theta}\n",
    "\\end{array}\\right\\} \\quad \\Longleftrightarrow \\quad \\left\\{\\begin{array}\\,\n",
    "    \\cfrac{d\\theta}{dt} &= \\cfrac{p}{mL^2} \\\\\n",
    "    \\cfrac{dp}{dt} &= -m g L\\sin\\theta\n",
    "\\end{array}\\right.$$"
   ]
  },
  {
   "cell_type": "code",
   "execution_count": null,
   "id": "21a2accb",
   "metadata": {
    "slideshow": {
     "slide_type": "slide"
    }
   },
   "outputs": [],
   "source": [
    "def hamiltonian(theta, p):\n",
    "    T = p * p / (2 * m * L*L)\n",
    "    U = m * g * L * (1 - np.cos(theta))\n",
    "    return T + U"
   ]
  },
  {
   "cell_type": "code",
   "execution_count": null,
   "id": "463d6e9b",
   "metadata": {},
   "outputs": [],
   "source": [
    "TH, PP = np.meshgrid(np.linspace(-np.pi * 1.1, np.pi * 1.1, 100), \n",
    "                     np.linspace(-3, 3, 100))\n",
    "\n",
    "HH = hamiltonian(TH, PP)\n",
    "\n",
    "plt.contour(TH, PP, HH, levels=10)\n",
    "plt.colorbar(label=r'$\\mathcal{H}(\\theta, p)$')\n",
    "\n",
    "set_axes()"
   ]
  },
  {
   "cell_type": "code",
   "execution_count": null,
   "id": "abfa1afd",
   "metadata": {
    "scrolled": true,
    "slideshow": {
     "slide_type": "slide"
    }
   },
   "outputs": [],
   "source": [
    "TH, PP = np.meshgrid(np.linspace(-np.pi * 1.1, np.pi * 1.1, 100), \n",
    "                     np.linspace(-3, 3, 100))\n",
    "\n",
    "HH = hamiltonian(TH, PP)\n",
    "\n",
    "plt.contourf(TH, PP, HH)\n",
    "plt.colorbar(label=r'$\\mathcal{H}(\\theta, p)$')\n",
    "\n",
    "plot_arrow(2, 0)\n",
    "\n",
    "set_axes()"
   ]
  },
  {
   "cell_type": "markdown",
   "id": "d22c8abc",
   "metadata": {
    "slideshow": {
     "slide_type": "slide"
    }
   },
   "source": [
    "<h2>Observations: Pendulum Phase-space Topology</h2>\n",
    "\n",
    "1. origin $(0,0)$: stable fixed point\n",
    "2. <b>bound motion</b> (circular phase-space trajectories) close to origin <br />($\\Leftrightarrow$ pendulum swinging back and forth)\n",
    "3. at larger angles towards $|\\theta|\\lesssim \\pi$ change of angle slows down\n",
    "4. unstable fixed points at $|\\theta|=\\pi$\n",
    "5. <b>unbound motion</b> (continuous phase-space trajectories) at large momenta <br />($\\Leftrightarrow$ pendulum moves in one angular direction only)\n",
    "6. <b>separatrix</b>: phase-space boundary separating bound from unbound motion"
   ]
  },
  {
   "cell_type": "markdown",
   "id": "60e4fdb6",
   "metadata": {
    "slideshow": {
     "slide_type": "slide"
    }
   },
   "source": [
    "<h2>Summing up Concepts</h2>\n",
    "\n",
    "- phase space: all momentary states $(\\theta, p_\\theta)$ of the dynamical system\n",
    "- Hamiltonian $\\mathcal{H}$: shapes landscape / geometry of phase space\n",
    "    $\\implies$ equations of motion\n",
    "    \n",
    "<div class=\"alert alert-block alert-success\" style=\"text-align:center;\">$\\mathcal{H}$ contains the physics!</div>"
   ]
  },
  {
   "cell_type": "markdown",
   "id": "c4ca5d25",
   "metadata": {
    "slideshow": {
     "slide_type": "slide"
    }
   },
   "source": [
    "<p style=\"text-align: center;\">\n",
    "    $\\implies$ let's go ahead and apply <b>discrete integrators</b> to simulate the pendulum\n",
    "</p>\n",
    "\n",
    "<p style=\"text-align: center;\">\n",
    "$\\leadsto$ Hamiltonian contours indicate exact geometry of solutions to the pendulum e.o.m. for comparison\n",
    "</p>"
   ]
  },
  {
   "cell_type": "markdown",
   "id": "fb23c743",
   "metadata": {
    "slideshow": {
     "slide_type": "slide"
    }
   },
   "source": [
    "<h2>Discretisation</h2>\n",
    "\n",
    "differential equation with continuous parameter $t$ $\\stackrel{\\text{discretise}}{\\implies}$ discrete map with time steps $t=k\\Delta t$\n",
    "\n",
    "<h3>Start with Forward Integration</h3>\n",
    "\n",
    "Assume constant values during $\\Delta t$: \"Explicit Euler method\"\n",
    "\n",
    "$$\\left.\\begin{array}\\,\n",
    "    \\cfrac{d\\theta}{dt} &= \\cfrac{p}{mL^2} \\\\\n",
    "    \\cfrac{dp}{dt} &= -m g L\\sin\\theta\n",
    "\\end{array}\\right\\} \\quad \\stackrel{\\text{Euler}}{\\Longrightarrow} \\quad \\left\\{\\begin{array}\\,\n",
    "    \\theta_{k+1} &= \\theta_k + \\Delta t\\cdot\\cfrac{p_{k}}{mL^2} \\\\\n",
    "    p_{k+1} &= p_k - \\Delta t\\cdot m g L\\sin\\theta_k\n",
    "\\end{array}\\right.$$"
   ]
  },
  {
   "cell_type": "code",
   "execution_count": null,
   "id": "2190f4a9",
   "metadata": {
    "slideshow": {
     "slide_type": "slide"
    }
   },
   "outputs": [],
   "source": [
    "def solve_euler(theta, p, dt=0.1):\n",
    "    theta_next = theta + dt * p / (m * L*L)\n",
    "    p_next = p - dt * m * g * L * np.sin(theta)\n",
    "    return (theta_next, p_next)"
   ]
  },
  {
   "cell_type": "code",
   "execution_count": null,
   "id": "cc49d5d2",
   "metadata": {},
   "outputs": [],
   "source": [
    "theta_ini = -1.1\n",
    "p_ini = 0\n",
    "n_steps = 100"
   ]
  },
  {
   "cell_type": "code",
   "execution_count": null,
   "id": "62c7eecb",
   "metadata": {},
   "outputs": [],
   "source": [
    "results_euler = np.zeros((n_steps, 2), dtype=np.float32)\n",
    "results_euler[0] = (theta_ini, p_ini)\n",
    "\n",
    "for k in range(1, n_steps):\n",
    "    results_euler[k] = solve_euler(*results_euler[k - 1])"
   ]
  },
  {
   "cell_type": "code",
   "execution_count": null,
   "id": "8d6c2084",
   "metadata": {
    "slideshow": {
     "slide_type": "slide"
    }
   },
   "outputs": [],
   "source": [
    "plt.contour(TH, PP, HH, levels=10, linestyles='--', linewidths=1)\n",
    "\n",
    "plt.plot(results_euler[:, 0], results_euler[:, 1], c='b')\n",
    "\n",
    "set_axes()"
   ]
  },
  {
   "cell_type": "markdown",
   "id": "1c7687f6",
   "metadata": {},
   "source": [
    "$\\implies$ something qualitatively wrong with integrator?"
   ]
  },
  {
   "cell_type": "markdown",
   "id": "b6e3f5d9",
   "metadata": {
    "slideshow": {
     "slide_type": "slide"
    }
   },
   "source": [
    "<h2>Total Energy should be conserved?</h2>"
   ]
  },
  {
   "cell_type": "code",
   "execution_count": null,
   "id": "73bddd28",
   "metadata": {},
   "outputs": [],
   "source": [
    "plt.plot(\n",
    "    hamiltonian(results_euler[:, 0], results_euler[:, 1]), \n",
    "    c='b', label='Euler integrator')\n",
    "plt.axhline(hamiltonian(theta_ini, p_ini), c='r', label='theory')\n",
    "\n",
    "plt.xlabel('Steps $k$')\n",
    "plt.ylabel(r'$\\mathcal{H}(\\theta, p)$')\n",
    "plt.legend();"
   ]
  },
  {
   "cell_type": "markdown",
   "id": "fe33089b",
   "metadata": {},
   "source": [
    "$\\implies$ discrete pendulum model violates energy conservation"
   ]
  },
  {
   "cell_type": "markdown",
   "id": "6c5f07eb",
   "metadata": {
    "slideshow": {
     "slide_type": "slide"
    }
   },
   "source": [
    "<h2>Even worse:</h2>"
   ]
  },
  {
   "cell_type": "code",
   "execution_count": null,
   "id": "8dfd981d",
   "metadata": {
    "slideshow": {
     "slide_type": "-"
    }
   },
   "outputs": [],
   "source": [
    "theta_ini2 = -3.\n",
    "p_ini2 = 0\n",
    "n_steps = 100"
   ]
  },
  {
   "cell_type": "code",
   "execution_count": null,
   "id": "ff3f1904",
   "metadata": {},
   "outputs": [],
   "source": [
    "results_euler2 = np.zeros((n_steps, 2), dtype=np.float32)\n",
    "results_euler2[0] = (theta_ini2, p_ini2)\n",
    "\n",
    "for k in range(1, n_steps):\n",
    "    results_euler2[k] = solve_euler(*results_euler2[k - 1])"
   ]
  },
  {
   "cell_type": "code",
   "execution_count": null,
   "id": "1153882e",
   "metadata": {
    "slideshow": {
     "slide_type": "-"
    }
   },
   "outputs": [],
   "source": [
    "plt.contour(TH, PP, HH, levels=10, linestyles='--', linewidths=1)\n",
    "\n",
    "plt.plot(results_euler2[:, 0], results_euler2[:, 1], c='b')\n",
    "\n",
    "set_axes()"
   ]
  },
  {
   "cell_type": "markdown",
   "id": "a50d2138",
   "metadata": {
    "slideshow": {
     "slide_type": "slide"
    }
   },
   "source": [
    "<h2>Change from bound to unbound region?</h2>\n",
    "\n",
    "Hamiltonian value of separatrix: $\\mathcal{H}_{sep} = \\mathcal{H}(-\\pi, 0)\\qquad$  (at unstable fixed point)"
   ]
  },
  {
   "cell_type": "code",
   "execution_count": null,
   "id": "33f70360",
   "metadata": {},
   "outputs": [],
   "source": [
    "h_sep = hamiltonian(-np.pi, 0)\n",
    "h_sep"
   ]
  },
  {
   "cell_type": "code",
   "execution_count": null,
   "id": "f256d33e",
   "metadata": {},
   "outputs": [],
   "source": [
    "plt.plot(\n",
    "    hamiltonian(results_euler2[:, 0], results_euler2[:, 1]), \n",
    "    c='b', label='Euler integrator')\n",
    "plt.axhline(hamiltonian(theta_ini2, p_ini2), c='r', label='theory')\n",
    "plt.axhline(h_sep, c='k', label='$\\mathcal{H}_{sep}$')\n",
    "\n",
    "plt.xlabel('Steps $k$')\n",
    "plt.ylabel(r'$\\mathcal{H}(\\theta, p)$')\n",
    "plt.legend(bbox_to_anchor=(1.05, 1))\n",
    "plt.ylim(top=2.1);"
   ]
  },
  {
   "cell_type": "markdown",
   "id": "baa12bb6",
   "metadata": {
    "slideshow": {
     "slide_type": "slide"
    }
   },
   "source": [
    "<h2>Conclusion from Euler Integrator</h2>\n",
    "\n",
    "- violates energy conservation: increasing energy / amplitude continuously\n",
    "- even breaks underlying structure of original phase space: leaving bound motion region to unbound region\n",
    "\n",
    "<div class=\"alert alert-block alert-danger\" style=\"text-align:center;\">\n",
    "    $\\implies$ <b>discretisation error!</b> <br />(... think of implications for predicting LHC stability or Earth's orbit)\n",
    "</div>"
   ]
  },
  {
   "cell_type": "markdown",
   "id": "67dbbeef",
   "metadata": {
    "slideshow": {
     "slide_type": "slide"
    }
   },
   "source": [
    "<h2>Symplecticity</h2>\n",
    "\n",
    "Euler method is a <b>non-symplectic</b> integrator, i.e. breaks Hamiltonian nature and Liouville theorem.\n",
    "\n",
    "Instead, numerical integrator mapping <b>should preserve phase-space density</b> (be symplectic)! \n",
    "\n",
    "$\\implies$ Jacobian $\\mathbb{J}$ of map should satisfy $\\det(\\mathbb{J})\\mathop{\\stackrel{!}{=}} 1$\n",
    "\n",
    "Euler method violates this, e.g. for pendulum:\n",
    "\n",
    "$$\\mathbb{J}_{Euler} = \\begin{pmatrix} \n",
    "    \\cfrac{\\partial\\theta_{k+1}}{\\partial\\theta_k} & \\cfrac{\\partial\\theta_{k+1}}{\\partial p_k} \\\\\n",
    "    \\cfrac{\\partial p_{k+1}}{\\partial\\theta_k} & \\cfrac{\\partial p_{k+1}}{\\partial p_k}\n",
    "\\end{pmatrix} = \\begin{pmatrix}\n",
    "    1 & \\cfrac{\\Delta t}{mL^2} \\\\\n",
    "    -\\Delta t\\, mgL\\cos\\theta_k & 1\n",
    "\\end{pmatrix} \\implies \\det\\left(\\mathbb{J}_{Euler}\\right) \\neq 1$$"
   ]
  },
  {
   "cell_type": "markdown",
   "id": "8e9bba61",
   "metadata": {
    "slideshow": {
     "slide_type": "slide"
    }
   },
   "source": [
    "<h2>Euler-Cromer Method</h2>\n",
    "\n",
    "Let's fix symplecticity / phase-space volume preservation! \n",
    "\n",
    "Euler has approximation error $\\mathcal{O}(\\Delta t^2)$.\n",
    "\n",
    "$\\implies$ add cancellation term of same magnitude (simplify $m=L=g=1$): \n",
    "\n",
    "$$\\mathbb{J}_{EC} = \\begin{pmatrix}\n",
    "    1 & \\Delta t \\\\\n",
    "    -\\Delta t\\cos\\theta_k & 1 \\color{red}{-\\Delta t^2\\cos\\theta_k}\n",
    "\\end{pmatrix} %= \\underbrace{\\begin{pmatrix}\n",
    "%    1 & 0 \\\\\n",
    "%    -\\Delta t \\cos\\theta_k & 1\n",
    "%\\end{pmatrix}}\\limits_\\text{\"kick\": update $p$} \\cdot \\underbrace{\\begin{pmatrix}\n",
    "%    1 & \\Delta t \\\\\n",
    "%    0 & 1\n",
    "%\\end{pmatrix}}\\limits_\\text{\"drift\": update $\\theta$}\n",
    "$$\n",
    "\n",
    "<div class=\"alert alert-block alert-success\">$$\\implies \\det\\left(\\mathbb{J}_{EC}\\right) = 1$$ </div>"
   ]
  },
  {
   "cell_type": "markdown",
   "id": "f4ef0c32",
   "metadata": {
    "slideshow": {
     "slide_type": "slide"
    }
   },
   "source": [
    "<h2>Euler-Cromer Method II</h2>\n",
    "\n",
    "Main difference to Euler method: \"stair-case\" movement in phase space\n",
    "- first update $\\theta$\n",
    "- then update $p$\n",
    "\n",
    "$$\\left.\\begin{array}\\,\n",
    "    \\cfrac{d\\theta}{dt} &= \\cfrac{p}{mL^2} \\\\\n",
    "    \\cfrac{dp}{dt} &= -m g L\\sin\\theta\n",
    "\\end{array}\\right\\} \\quad \\stackrel{\\text{Euler-Cromer}}{\\Longrightarrow} \\quad \\left\\{\\begin{array}\\,\n",
    "    \\theta_{k+1} &= \\theta_k + \\Delta t\\cdot\\cfrac{p_{k}}{mL^2} \\\\\n",
    "    p_{k+1} &= p_k - \\Delta t\\cdot m g L\\sin\\color{red}{\\theta_{k+1}}\n",
    "\\end{array}\\right.$$"
   ]
  },
  {
   "cell_type": "markdown",
   "id": "5970faa7",
   "metadata": {
    "slideshow": {
     "slide_type": "slide"
    }
   },
   "source": [
    "<h2>Euler-Cromer Method III</h2>\n",
    "\n",
    "Illustration of stair-case movement in phase space for linear pendulum where $\\sin\\theta\\approx \\theta$:\n",
    "    \n",
    "$$\\left\\{\\begin{array}\\,\n",
    "    \\theta_{k+1} &= \\theta_k + \\Delta t\\cdot p_{k} \\\\\n",
    "    p_{k+1} &= p_k - \\Delta t\\cdot \\color{red}{\\theta_{k+1}}\n",
    "\\end{array}\\right.\n",
    "\\\\[2em]\n",
    "\\stackrel{\\text{Jacobian}}{\\Longrightarrow} \\quad \n",
    "\\mathbb{J}_{EC} = \\begin{pmatrix}\n",
    "    1 & \\Delta t \\\\\n",
    "    -\\Delta t & 1 \\color{red}{-\\Delta t^2}\n",
    "\\end{pmatrix} = \\underbrace{\\begin{pmatrix}\n",
    "    1 & 0 \\\\\n",
    "    -\\Delta t & 1\n",
    "\\end{pmatrix}}\\limits_\\text{\"kick\": update $p$} \\cdot \\underbrace{\\begin{pmatrix}\n",
    "    1 & \\Delta t \\\\\n",
    "    0 & 1\n",
    "\\end{pmatrix}}\\limits_\\text{\"drift\": update $\\theta$}\n",
    "$$\n",
    "\n",
    "$\\implies$ Euler-Cromer method is sometimes referred to as *drift-kick* algorithm"
   ]
  },
  {
   "cell_type": "markdown",
   "id": "3753702d",
   "metadata": {
    "slideshow": {
     "slide_type": "slide"
    }
   },
   "source": [
    "<h2>Implement in Python</h2>"
   ]
  },
  {
   "cell_type": "code",
   "execution_count": null,
   "id": "d0f7dc41",
   "metadata": {},
   "outputs": [],
   "source": [
    "def solve_eulercromer(theta, p, dt=0.1):\n",
    "    ### from Euler:\n",
    "#     theta_next = theta + dt * p / (m * L*L)\n",
    "#     p_next = p - dt * m * g * L * np.sin(theta)\n",
    "#     return (theta_next, p_next)"
   ]
  },
  {
   "cell_type": "code",
   "execution_count": null,
   "id": "2149f7f7",
   "metadata": {},
   "outputs": [],
   "source": [
    "results_eulercromer = np.zeros((n_steps, 2), dtype=np.float32)\n",
    "results_eulercromer[0] = (theta_ini, p_ini)\n",
    "\n",
    "for k in range(1, n_steps):\n",
    "    results_eulercromer[k] = solve_eulercromer(*results_eulercromer[k - 1])"
   ]
  },
  {
   "cell_type": "code",
   "execution_count": null,
   "id": "d2845e71",
   "metadata": {
    "slideshow": {
     "slide_type": "slide"
    }
   },
   "outputs": [],
   "source": [
    "plt.contour(TH, PP, HH, levels=10, linestyles='--', linewidths=1)\n",
    "\n",
    "plt.plot(results_euler[:, 0], results_euler[:, 1], c='b', label='Euler')\n",
    "plt.plot(results_eulercromer[:, 0], results_eulercromer[:, 1], c='c', label='Euler-Cromer')\n",
    "\n",
    "plt.legend(bbox_to_anchor=(1.05, 1))\n",
    "set_axes()"
   ]
  },
  {
   "cell_type": "markdown",
   "id": "56ea3fa6",
   "metadata": {
    "slideshow": {
     "slide_type": "slide"
    }
   },
   "source": [
    "<h2>What about energy conservation now?</h2>"
   ]
  },
  {
   "cell_type": "code",
   "execution_count": null,
   "id": "eeed8da2",
   "metadata": {
    "slideshow": {
     "slide_type": "-"
    }
   },
   "outputs": [],
   "source": [
    "plt.plot(\n",
    "    hamiltonian(results_euler[:, 0], results_euler[:, 1]), \n",
    "    c='b', label='Euler')\n",
    "plt.plot(\n",
    "    hamiltonian(results_eulercromer[:, 0], results_eulercromer[:, 1]), \n",
    "    c='c', label='Euler-Cromer')\n",
    "plt.axhline(hamiltonian(theta_ini, p_ini), c='r', label='theory')\n",
    "\n",
    "plt.xlabel('Steps $k$')\n",
    "plt.ylabel(r'$\\mathcal{H}(\\theta, p)$')\n",
    "plt.legend(bbox_to_anchor=(1.05, 1));"
   ]
  },
  {
   "cell_type": "markdown",
   "id": "0fec4475",
   "metadata": {
    "slideshow": {
     "slide_type": "-"
    }
   },
   "source": [
    "$\\implies$ still finite error -- but <b>bound</b> within an interval around the correct solution! \n",
    "\n",
    "(In fact, a modified Hamiltonian $\\mathcal{K}$ is conserved...)"
   ]
  },
  {
   "cell_type": "markdown",
   "id": "817294df",
   "metadata": {
    "slideshow": {
     "slide_type": "slide"
    }
   },
   "source": [
    "<h2>Adding Mid-point Rule: $\\mathcal{O}(\\Delta t^3)$</h2>\n",
    "    \n",
    "Symplectic Störmer-Verlet (or \"leapfrog\") method: staggered update, drift-kick-drift!\n",
    "\n",
    "\n",
    "$$\\left.\\begin{array}\\,\n",
    "    \\cfrac{d\\theta}{dt} &= \\cfrac{p}{mL^2} \\\\\n",
    "    \\cfrac{dp}{dt} &= -m g L\\sin\\theta\n",
    "\\end{array}\\right\\} \\quad \\stackrel{\\text{leapfrog}}{\\Longrightarrow} \\quad \\left\\{\\begin{array}\\,\n",
    "    \\theta_{\\color{red}{k+1/2}} &= \\theta_k + \\color{red}{\\cfrac{\\Delta t}{2}}\\cdot\\cfrac{p_{k}}{mL^2} \\\\\n",
    "    p_{k+1} &= p_k - \\Delta t\\cdot m g L\\sin\\theta_\\color{red}{{k+1/2}} \\\\\n",
    "    \\theta_{\\color{red}{k+1}} &= \\theta_{\\color{red}{k+1/2}} + \\color{red}{\\cfrac{\\Delta t}{2}}\\cdot\\cfrac{p_{\\color{red}{k+1}}}{mL^2}\n",
    "\\end{array}\\right.$$ \n",
    "\n",
    "<div class=\"alert alert-block alert-success\" style=\"text-align:center;\">$\\implies$ widely used symplectic algorithm: stable, second-order and time-reversible! </div>\n",
    "\n",
    "<img src=\"./img/leapfrog.png\" alt=\"leapfrog method sketch\" style=\"width: 40%; margin:auto;\" />"
   ]
  },
  {
   "cell_type": "markdown",
   "id": "db7d82a1",
   "metadata": {
    "slideshow": {
     "slide_type": "slide"
    }
   },
   "source": [
    "<p style=\"color: #e6541a;\"><b>Exercise:</b> verify that Jacobian of leapfrog algorithm gives $\\det\\left(\\mathbb{J}_\\text{leapfrog}\\right) = 1$</p>"
   ]
  },
  {
   "cell_type": "code",
   "execution_count": null,
   "id": "f5127794",
   "metadata": {
    "slideshow": {
     "slide_type": "slide"
    }
   },
   "outputs": [],
   "source": [
    "def solve_leapfrog(theta, p, dt=0.1):\n",
    "    theta_half = theta + dt / 2 * p / (m * L*L)\n",
    "    p_next = p - dt * m * g * L * np.sin(theta_half)\n",
    "    theta_next = theta_half + dt / 2 * p_next / (m * L*L)\n",
    "    return (theta_next, p_next)"
   ]
  },
  {
   "cell_type": "code",
   "execution_count": null,
   "id": "0217cde2",
   "metadata": {},
   "outputs": [],
   "source": [
    "results_leapfrog = np.zeros((n_steps, 2), dtype=np.float32)\n",
    "results_leapfrog[0] = (theta_ini, p_ini)\n",
    "\n",
    "for k in range(1, n_steps):\n",
    "    results_leapfrog[k] = solve_leapfrog(*results_leapfrog[k - 1])"
   ]
  },
  {
   "cell_type": "code",
   "execution_count": null,
   "id": "33e4f840",
   "metadata": {
    "slideshow": {
     "slide_type": "slide"
    }
   },
   "outputs": [],
   "source": [
    "plt.plot(\n",
    "    hamiltonian(results_euler[:, 0], results_euler[:, 1]), \n",
    "    c='b', label='Euler, $\\mathcal{O}(\\Delta t^2)$')\n",
    "plt.plot(\n",
    "    hamiltonian(results_eulercromer[:, 0], results_eulercromer[:, 1]), \n",
    "    c='c', label='Euler-Cromer, $\\mathcal{O}(\\Delta t^2)$')\n",
    "plt.plot(\n",
    "    hamiltonian(results_leapfrog[:, 0], results_leapfrog[:, 1]), \n",
    "    c='k', label='leapfrog, $\\mathcal{O}(\\Delta t^3)$')\n",
    "plt.axhline(hamiltonian(theta_ini, p_ini), c='r', lw=2, label='theory')\n",
    "\n",
    "plt.ylim(0.5, 0.6)\n",
    "plt.xlabel('Steps $k$')\n",
    "plt.ylabel(r'$\\mathcal{H}(\\theta, p)$')\n",
    "plt.legend(bbox_to_anchor=(1.05, 1));"
   ]
  },
  {
   "cell_type": "markdown",
   "id": "72d9146e",
   "metadata": {
    "slideshow": {
     "slide_type": "slide"
    }
   },
   "source": [
    "<h2>Let this sink in...</h2>\n",
    "\n",
    "Are symplectic algorithms always a good idea? (When not...?)"
   ]
  },
  {
   "cell_type": "markdown",
   "id": "a537f0a5",
   "metadata": {
    "slideshow": {
     "slide_type": "slide"
    }
   },
   "source": [
    "<img src=\"./img/leir-layout.png\" alt=\"CERN LEIR layout\" style=\"float:right; width:35%;\" />\n",
    "\n",
    "<h2>Analogy of Pendulum with Accelerator</h2>\n",
    "\n",
    "Phase focusing with rf cavities:\n",
    "- particles drift over most of the circular accelerator\n",
    "- particles get kicked only in rf cavities <br /> (energy change through standing electromagnetic wave)\n",
    "\n",
    "$\\implies$ closely corresponds to discrete pendulum situation!\n",
    "\n",
    "<div class=\"alert alert-block alert-success\" style=\"text-align:center;\">rf focused beam of particles $\\leftrightarrow$ collection of pendulums </div>\n",
    "\n",
    "<p style=\"clear: both; font-size: 10pt; text-align: right; float: right;\"><a href=\"https://be-dep-op-leir.web.cern.ch/content/leir-machine\">image: LEIR layout, CERN</a></p>\n"
   ]
  },
  {
   "cell_type": "markdown",
   "id": "447964e8",
   "metadata": {
    "slideshow": {
     "slide_type": "slide"
    }
   },
   "source": [
    "<h2>Summary</h2>\n",
    "\n",
    "- time scales in accelerator physics\n",
    "- phase space\n",
    "- discrete numerical integration schemes:\n",
    "    - Euler\n",
    "    - Euler-Cromer\n",
    "    - leapfrog\n",
    "- symplecticity"
   ]
  },
  {
   "cell_type": "markdown",
   "id": "230c8859",
   "metadata": {
    "slideshow": {
     "slide_type": "slide"
    }
   },
   "source": [
    "<h2>Literature:</h2>\n",
    "\n",
    "- symplectic integrators: https://young.physics.ucsc.edu/115/leapfrog.pdf"
   ]
  }
 ],
 "metadata": {
  "celltoolbar": "Slideshow",
  "kernelspec": {
   "display_name": "Python 3",
   "language": "python",
   "name": "python3"
  },
  "language_info": {
   "codemirror_mode": {
    "name": "ipython",
    "version": 3
   },
   "file_extension": ".py",
   "mimetype": "text/x-python",
   "name": "python",
   "nbconvert_exporter": "python",
   "pygments_lexer": "ipython3",
   "version": "3.7.3"
  },
  "rise": {
   "enable_chalkboard": false,
   "footer": "<p>Fachbereich Elektrotechnik und Informationstechnik (etit)   |   Institut für Teilchenbeschleunigung und Elektromagnetische Felder (TEMF)   |   Dr. Adrian Oeftiger</p>",
   "header": "<img src='https://upload.wikimedia.org/wikipedia/de/thumb/2/24/TU_Darmstadt_Logo.svg/640px-TU_Darmstadt_Logo.svg.png' />",
   "scroll": true,
   "theme": "simple",
   "transition": "none"
  }
 },
 "nbformat": 4,
 "nbformat_minor": 5
}
